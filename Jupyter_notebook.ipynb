{
 "cells": [
  {
   "cell_type": "markdown",
   "id": "95a7e6d8",
   "metadata": {},
   "source": [
    "<h1>My Jupyter Notebook on IBM Watson Studio</h1>"
   ]
  },
  {
   "cell_type": "markdown",
   "id": "0351e45d",
   "metadata": {},
   "source": [
    "<b>Souvik Das</b><br>\n",
    "Data Scientist"
   ]
  },
  {
   "cell_type": "markdown",
   "id": "3db56a1b",
   "metadata": {},
   "source": [
    "<i>I am interested in data science because it has huge potential in future and I love to work with data the last few weeks of the course have been very informative and now I am more eager to learn and progress in this field.</i>  "
   ]
  },
  {
   "cell_type": "markdown",
   "id": "1e96adfe",
   "metadata": {},
   "source": [
    "<h3>The folowing code ask for your name and then say Hi!</h3>"
   ]
  },
  {
   "cell_type": "code",
   "execution_count": 5,
   "id": "d632b10a",
   "metadata": {},
   "outputs": [
    {
     "name": "stdout",
     "output_type": "stream",
     "text": [
      "Enter your Name:X\n",
      "Hi X\n"
     ]
    }
   ],
   "source": [
    "x = input(\"Enter your Name:\")\n",
    "print('Hi',x)"
   ]
  },
  {
   "cell_type": "markdown",
   "id": "8f99be5e",
   "metadata": {},
   "source": [
    "<ul><li>Jhon</li>\n",
    "    <li>Sena</li>\n",
    "    <li>Senior</li>\n",
    "</ul>\n",
    "\n",
    "<ol><li>Jhon</li>\n",
    "    <li>Sena</li>\n",
    "    <li>Senior</li>\n",
    "</ol>\n",
    "\n",
    "<s>Jhon Sena Senior</s>"
   ]
  }
 ],
 "metadata": {
  "kernelspec": {
   "display_name": "Python 3 (ipykernel)",
   "language": "python",
   "name": "python3"
  },
  "language_info": {
   "codemirror_mode": {
    "name": "ipython",
    "version": 3
   },
   "file_extension": ".py",
   "mimetype": "text/x-python",
   "name": "python",
   "nbconvert_exporter": "python",
   "pygments_lexer": "ipython3",
   "version": "3.9.13"
  }
 },
 "nbformat": 4,
 "nbformat_minor": 5
}
